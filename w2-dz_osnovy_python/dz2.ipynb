{
 "cells": [
  {
   "cell_type": "markdown",
   "metadata": {},
   "source": [
    "Задание на лекции"
   ]
  },
  {
   "cell_type": "code",
   "execution_count": 14,
   "metadata": {},
   "outputs": [
    {
     "name": "stdout",
     "output_type": "stream",
     "text": [
      "введите ширину: 25\n",
      "введите длину: 45\n",
      "введите высоту: 32\n",
      "Коробка №2\n"
     ]
    }
   ],
   "source": [
    "width = int(input('Введите ширину: '))\n",
    "length = int(input('Введите длину: '))\n",
    "height = int(input('Введите высоту: '))\n",
    "if length>200: \n",
    "    print('Ищите упаковку для лыж')\n",
    "elif width < 15 and length < 15 and height < 15:\n",
    "    print('Коробка №1')\n",
    "elif 15 < width < 50 or 15 < length < 50 or 15 < height < 50: \n",
    "    print('Коробка №2')\n",
    "else: ('Стандартная коробка №3')"
   ]
  },
  {
   "cell_type": "markdown",
   "metadata": {},
   "source": [
    "Задание 1. Даны 2 строки: long_phrase и short_phrase. Напишите код, который проверяет действительно ли длинная фраза long_phrase длиннее короткой short_phrase. И выводит True или False в зависимости от результата сравнения."
   ]
  },
  {
   "cell_type": "code",
   "execution_count": 17,
   "metadata": {},
   "outputs": [
    {
     "data": {
      "text/plain": [
       "True"
      ]
     },
     "execution_count": 17,
     "metadata": {},
     "output_type": "execute_result"
    }
   ],
   "source": [
    "long_phrase = 'Насколько проще было бы писать программы, если бы не заказчики'\n",
    "short_phrase = '640Кб должно хватить для любых задач. Билл Гейтс (по легенде)'\n",
    "len(long_phrase) > len(short_phrase)"
   ]
  },
  {
   "cell_type": "markdown",
   "metadata": {},
   "source": [
    "Задание 2. Дано значение объема файла в байтах (в мегабайте 2^20 байт). Напишите перевод этого значения в мегабайты в формате: \"Объем файла равен 213.68Mb\"."
   ]
  },
  {
   "cell_type": "code",
   "execution_count": 25,
   "metadata": {},
   "outputs": [
    {
     "name": "stdout",
     "output_type": "stream",
     "text": [
      "Введите объем файла в байтах: 8000\n",
      "Объем файла равен: 0.00762939453125 Mb\n"
     ]
    }
   ],
   "source": [
    "volume_b = int(input('Введите объем файла в байтах: '))\n",
    "volume_mb=volume_b/(2**20)\n",
    "print ('Объем файла равен:', volume_mb, 'Mb')"
   ]
  },
  {
   "cell_type": "markdown",
   "metadata": {},
   "source": [
    "Задание 3. Разработать приложение для определения знака зодиака по дате рождения. \n",
    "Пример:\n",
    "\n",
    "Введите месяц: март\n",
    "\n",
    "Введите число: 6\n",
    "\n",
    "Вывод: Рыбы"
   ]
  },
  {
   "cell_type": "code",
   "execution_count": 33,
   "metadata": {},
   "outputs": [
    {
     "name": "stdout",
     "output_type": "stream",
     "text": [
      "Введите месяц рождения: февраль\n",
      "Введите день рождения: 30\n",
      "Дата некорректна\n"
     ]
    }
   ],
   "source": [
    "month = input('Введите месяц рождения: ')\n",
    "data = int(input('Введите день рождения: '))\n",
    "if month == 'январь' and  1 <= data <= 20:\n",
    "    print ('Козерог')\n",
    "elif month == 'январь' and  21 <= data <= 31:\n",
    "    print ('Водолей')\n",
    "elif month == 'февраль' and  1 <= data <= 18:\n",
    "    print ('Водолей')\n",
    "elif month == 'февраль' and  19 <= data <= 29:\n",
    "    print ('Рыбы')\n",
    "elif month == 'март' and  1 <= data <= 20:\n",
    "    print ('Рыбы') \n",
    "elif month == 'март' and  21 <= data <= 30:\n",
    "    print ('Овен') \n",
    "elif month == 'апрель' and  1 <= data <= 20:\n",
    "    print ('Овен') \n",
    "elif month == 'апрель' and  21 <= data <= 30:\n",
    "    print ('Телец')\n",
    "elif month == 'май' and  1 <= data <= 21:\n",
    "    print ('Телец')\n",
    "elif month == 'май' and  22 <= data <= 31:\n",
    "    print ('Близнецы')\n",
    "elif month == 'июнь' and  1 <= data <= 21:\n",
    "    print ('Близнецы')\n",
    "elif month == 'июнь' and  22 <= data <= 30:\n",
    "    print ('Рак')\n",
    "elif month == 'июль' and  1 <= data <= 22:\n",
    "    print ('Рак')\n",
    "elif month == 'июль' and  23 <= data <= 31:\n",
    "    print ('Лев')\n",
    "elif month == 'август' and  1 <= data <= 23:\n",
    "    print ('Лев')\n",
    "elif month == 'август' and  24 <= data <= 31:\n",
    "    print ('Дева')\n",
    "elif month == 'сентябрь' and  1 <= data <= 23:\n",
    "    print ('Дева')\n",
    "elif month == 'сентябрь' and 24 <= data <= 30:\n",
    "    print ('Весы')\n",
    "elif month == 'октябрь' and  1 <= data <= 23:\n",
    "    print ('Весы')\n",
    "elif month == 'октябрь' and  24 <= data <= 31:\n",
    "    print ('Скорпион')\n",
    "elif month == 'ноябрь' and  1 <= data <= 22:\n",
    "    print ('Скорпион')\n",
    "elif month == 'ноябрь' and  23 <= data <= 30:\n",
    "    print ('Стрелец')\n",
    "elif month == 'декабрь' and  1 <= data <= 21:\n",
    "    print ('Стрелец')\n",
    "elif month == 'декабрь' and  22 <= data <= 31:\n",
    "    print ('Козерог')\n",
    "else:\n",
    "    print ('Дата некорректна')"
   ]
  },
  {
   "cell_type": "markdown",
   "metadata": {},
   "source": [
    "Задание 4. Нужно разработать приложение для финансового планирования. Приложение учитывает сколько уходит на ипотеку, \"на жизнь\" и сколько нужно отложить на пенсию. Пользователь вводит:\n",
    "\n",
    "заработанную плату в месяц.\n",
    "сколько процентов от ЗП уходит на ипотеку.\n",
    "сколько процентов от ЗП уходит \"на жизнь\".\n",
    "сколько раз приходит премия в год.\n",
    "Остальная часть заработанной платы откладывается на пенсию.\n",
    "\n",
    "Также пользователю приходит премия в размере зарплаты, от которой половина уходит на отпуск, а вторая половина откладывается.\n",
    "\n",
    "Программа должна учитывать сколько премий было в год.\n",
    "\n",
    "Нужно вывести сколько денег тратит пользователь на ипотеку и сколько он накопит за год.\n",
    "\n",
    "Пример:\n",
    "\n",
    "Введите заработанную плату в месяц: 100000\n",
    "\n",
    "Введите сколько процентов уходит на ипотеку: 30\n",
    "\n",
    "Введите сколько процентов уходит на жизнь: 50\n",
    "\n",
    "Введите количество премий за год: 2\n",
    "\n",
    "Вывод: На ипотеку было потрачено: 360000 рублей Было накоплено: 340000 рублей"
   ]
  },
  {
   "cell_type": "code",
   "execution_count": 38,
   "metadata": {},
   "outputs": [
    {
     "name": "stdout",
     "output_type": "stream",
     "text": [
      "Введите зарплату: 64000\n",
      "Процент зарплаты уходит на ипотеку: 50\n",
      "Процент зарплаты уходит на жизнь: 50\n",
      "Количество премий в год: 2\n",
      "В месяц на ипотеку потрачено:  32000.0\n",
      "В год на ипотеку потрачено:  384000.0\n",
      "В месяц на жизнь потрачено:  32000.0\n",
      "В год на жизнь потрачено:  384000.0\n",
      "За год накоплено:  128000.0\n"
     ]
    }
   ],
   "source": [
    "salary = int(input('Введите зарплату: '))\n",
    "mortgage_p = int(input('Процент зарплаты уходит на ипотеку: '))\n",
    "life_p = int(input('Процент зарплаты уходит на жизнь: '))\n",
    "prize_q = int(input('Количество премий в год: '))\n",
    "\n",
    "mortgage = salary / 100 * mortgage_p\n",
    "print ('В месяц на ипотеку потрачено: ', mortgage)\n",
    "mortgage_a = (salary / 100 * mortgage_p)*12\n",
    "print ('В год на ипотеку потрачено: ', mortgage_a)\n",
    "life = salary / 100 * life_p\n",
    "print ('В месяц на жизнь потрачено: ', life)\n",
    "life_a = (salary / 100 * life_p)*12\n",
    "print ('В год на жизнь потрачено: ', life_a)\n",
    "accumulation = (salary * (12 + prize_q)) - mortgage_a - life_a\n",
    "print ('За год накоплено: ', accumulation)"
   ]
  },
  {
   "cell_type": "code",
   "execution_count": null,
   "metadata": {},
   "outputs": [],
   "source": []
  }
 ],
 "metadata": {
  "kernelspec": {
   "display_name": "Python 3",
   "language": "python",
   "name": "python3"
  },
  "language_info": {
   "codemirror_mode": {
    "name": "ipython",
    "version": 3
   },
   "file_extension": ".py",
   "mimetype": "text/x-python",
   "name": "python",
   "nbconvert_exporter": "python",
   "pygments_lexer": "ipython3",
   "version": "3.7.6"
  }
 },
 "nbformat": 4,
 "nbformat_minor": 4
}
